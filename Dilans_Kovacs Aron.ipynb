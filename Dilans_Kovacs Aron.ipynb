{
 "cells": [
  {
   "cell_type": "markdown",
   "id": "0f5bbb75",
   "metadata": {},
   "source": [
    "## Importing"
   ]
  },
  {
   "cell_type": "code",
   "execution_count": 2,
   "id": "6c5f8404",
   "metadata": {},
   "outputs": [],
   "source": [
    "import numpy as np \n",
    "import pandas as pd\n",
    "import matplotlib\n",
    "import matplotlib.pyplot as plt\n",
    "%matplotlib inline"
   ]
  },
  {
   "cell_type": "markdown",
   "id": "044fb912",
   "metadata": {},
   "source": [
    "## Data preparation for analysis"
   ]
  },
  {
   "cell_type": "markdown",
   "id": "0d273f6c",
   "metadata": {},
   "source": [
    "new readers"
   ]
  },
  {
   "cell_type": "code",
   "execution_count": 27,
   "id": "76e18ac4",
   "metadata": {},
   "outputs": [],
   "source": [
    "# importing data\n",
    "\n",
    "complete_dataset = pd.read_csv('/home/aronkovacs/DILANS/new_readers.csv', delimiter=';', \n",
    "                                names = ['event_date', 'event', 'country', 'user_id', 'source', 'topic'])"
   ]
  },
  {
   "cell_type": "code",
   "execution_count": 4,
   "id": "fa151c80",
   "metadata": {},
   "outputs": [
    {
     "data": {
      "text/html": [
       "<div>\n",
       "<style scoped>\n",
       "    .dataframe tbody tr th:only-of-type {\n",
       "        vertical-align: middle;\n",
       "    }\n",
       "\n",
       "    .dataframe tbody tr th {\n",
       "        vertical-align: top;\n",
       "    }\n",
       "\n",
       "    .dataframe thead th {\n",
       "        text-align: right;\n",
       "    }\n",
       "</style>\n",
       "<table border=\"1\" class=\"dataframe\">\n",
       "  <thead>\n",
       "    <tr style=\"text-align: right;\">\n",
       "      <th></th>\n",
       "      <th>event_date</th>\n",
       "      <th>event</th>\n",
       "      <th>country</th>\n",
       "      <th>user_id</th>\n",
       "      <th>source</th>\n",
       "      <th>topic</th>\n",
       "    </tr>\n",
       "  </thead>\n",
       "  <tbody>\n",
       "    <tr>\n",
       "      <th>0</th>\n",
       "      <td>2018-01-01 00:04:01</td>\n",
       "      <td>read</td>\n",
       "      <td>country_7</td>\n",
       "      <td>2458151263</td>\n",
       "      <td>AdWords</td>\n",
       "      <td>Africa</td>\n",
       "    </tr>\n",
       "    <tr>\n",
       "      <th>1</th>\n",
       "      <td>2018-01-01 00:04:02</td>\n",
       "      <td>read</td>\n",
       "      <td>country_7</td>\n",
       "      <td>2458151264</td>\n",
       "      <td>AdWords</td>\n",
       "      <td>Europe</td>\n",
       "    </tr>\n",
       "    <tr>\n",
       "      <th>2</th>\n",
       "      <td>2018-01-01 00:06:15</td>\n",
       "      <td>read</td>\n",
       "      <td>country_6</td>\n",
       "      <td>2458151268</td>\n",
       "      <td>AdWords</td>\n",
       "      <td>Europe</td>\n",
       "    </tr>\n",
       "    <tr>\n",
       "      <th>3</th>\n",
       "      <td>2018-01-01 00:07:21</td>\n",
       "      <td>read</td>\n",
       "      <td>country_7</td>\n",
       "      <td>2458151269</td>\n",
       "      <td>AdWords</td>\n",
       "      <td>North America</td>\n",
       "    </tr>\n",
       "    <tr>\n",
       "      <th>4</th>\n",
       "      <td>2018-01-01 00:07:57</td>\n",
       "      <td>read</td>\n",
       "      <td>country_5</td>\n",
       "      <td>2458151271</td>\n",
       "      <td>AdWords</td>\n",
       "      <td>Asia</td>\n",
       "    </tr>\n",
       "  </tbody>\n",
       "</table>\n",
       "</div>"
      ],
      "text/plain": [
       "            event_date event    country     user_id   source          topic\n",
       "0  2018-01-01 00:04:01  read  country_7  2458151263  AdWords         Africa\n",
       "1  2018-01-01 00:04:02  read  country_7  2458151264  AdWords         Europe\n",
       "2  2018-01-01 00:06:15  read  country_6  2458151268  AdWords         Europe\n",
       "3  2018-01-01 00:07:21  read  country_7  2458151269  AdWords  North America\n",
       "4  2018-01-01 00:07:57  read  country_5  2458151271  AdWords           Asia"
      ]
     },
     "execution_count": 4,
     "metadata": {},
     "output_type": "execute_result"
    }
   ],
   "source": [
    "complete_dataset.head()"
   ]
  },
  {
   "cell_type": "code",
   "execution_count": 28,
   "id": "02bc5bcc",
   "metadata": {},
   "outputs": [],
   "source": [
    "# I split the first column into date and time so it's easier to work with.\n",
    "\n",
    "def date_time_split(data):\n",
    "    \n",
    "    # function creating a date and a time column from one datetime column\n",
    "    new = data[\"event_date\"].str.split(\" \", n = 1, expand = True)\n",
    "    data[\"event_date\"]= new[0]\n",
    "    data[\"event_time\"]= new[1]\n",
    "\n",
    "    data = data[['event_date','event_time','event','country','user_id','source','topic']]\n",
    "    data['event_date'] = pd.to_datetime(data['event_date'])\n",
    "    \n",
    "    return data"
   ]
  },
  {
   "cell_type": "code",
   "execution_count": 29,
   "id": "23d6b603",
   "metadata": {},
   "outputs": [],
   "source": [
    "complete_dataset = date_time_split(complete_dataset)"
   ]
  },
  {
   "cell_type": "code",
   "execution_count": 30,
   "id": "ec001a56",
   "metadata": {},
   "outputs": [],
   "source": [
    "a = complete_dataset"
   ]
  },
  {
   "cell_type": "code",
   "execution_count": 31,
   "id": "c83d1651",
   "metadata": {},
   "outputs": [],
   "source": [
    "new_readers = a"
   ]
  },
  {
   "cell_type": "code",
   "execution_count": 10,
   "id": "3bccfd23",
   "metadata": {},
   "outputs": [
    {
     "data": {
      "text/html": [
       "<div>\n",
       "<style scoped>\n",
       "    .dataframe tbody tr th:only-of-type {\n",
       "        vertical-align: middle;\n",
       "    }\n",
       "\n",
       "    .dataframe tbody tr th {\n",
       "        vertical-align: top;\n",
       "    }\n",
       "\n",
       "    .dataframe thead th {\n",
       "        text-align: right;\n",
       "    }\n",
       "</style>\n",
       "<table border=\"1\" class=\"dataframe\">\n",
       "  <thead>\n",
       "    <tr style=\"text-align: right;\">\n",
       "      <th></th>\n",
       "      <th>event_date</th>\n",
       "      <th>event_time</th>\n",
       "      <th>event</th>\n",
       "      <th>country</th>\n",
       "      <th>user_id</th>\n",
       "      <th>source</th>\n",
       "      <th>topic</th>\n",
       "    </tr>\n",
       "  </thead>\n",
       "  <tbody>\n",
       "    <tr>\n",
       "      <th>0</th>\n",
       "      <td>2018-01-01</td>\n",
       "      <td>00:04:01</td>\n",
       "      <td>read</td>\n",
       "      <td>country_7</td>\n",
       "      <td>2458151263</td>\n",
       "      <td>AdWords</td>\n",
       "      <td>Africa</td>\n",
       "    </tr>\n",
       "    <tr>\n",
       "      <th>1</th>\n",
       "      <td>2018-01-01</td>\n",
       "      <td>00:04:02</td>\n",
       "      <td>read</td>\n",
       "      <td>country_7</td>\n",
       "      <td>2458151264</td>\n",
       "      <td>AdWords</td>\n",
       "      <td>Europe</td>\n",
       "    </tr>\n",
       "    <tr>\n",
       "      <th>2</th>\n",
       "      <td>2018-01-01</td>\n",
       "      <td>00:06:15</td>\n",
       "      <td>read</td>\n",
       "      <td>country_6</td>\n",
       "      <td>2458151268</td>\n",
       "      <td>AdWords</td>\n",
       "      <td>Europe</td>\n",
       "    </tr>\n",
       "    <tr>\n",
       "      <th>3</th>\n",
       "      <td>2018-01-01</td>\n",
       "      <td>00:07:21</td>\n",
       "      <td>read</td>\n",
       "      <td>country_7</td>\n",
       "      <td>2458151269</td>\n",
       "      <td>AdWords</td>\n",
       "      <td>North America</td>\n",
       "    </tr>\n",
       "    <tr>\n",
       "      <th>4</th>\n",
       "      <td>2018-01-01</td>\n",
       "      <td>00:07:57</td>\n",
       "      <td>read</td>\n",
       "      <td>country_5</td>\n",
       "      <td>2458151271</td>\n",
       "      <td>AdWords</td>\n",
       "      <td>Asia</td>\n",
       "    </tr>\n",
       "  </tbody>\n",
       "</table>\n",
       "</div>"
      ],
      "text/plain": [
       "  event_date event_time event    country     user_id   source          topic\n",
       "0 2018-01-01   00:04:01  read  country_7  2458151263  AdWords         Africa\n",
       "1 2018-01-01   00:04:02  read  country_7  2458151264  AdWords         Europe\n",
       "2 2018-01-01   00:06:15  read  country_6  2458151268  AdWords         Europe\n",
       "3 2018-01-01   00:07:21  read  country_7  2458151269  AdWords  North America\n",
       "4 2018-01-01   00:07:57  read  country_5  2458151271  AdWords           Asia"
      ]
     },
     "execution_count": 10,
     "metadata": {},
     "output_type": "execute_result"
    }
   ],
   "source": [
    "new_readers.head()"
   ]
  },
  {
   "cell_type": "markdown",
   "id": "d45329e1",
   "metadata": {},
   "source": [
    "returning readers"
   ]
  },
  {
   "cell_type": "code",
   "execution_count": 19,
   "id": "9e6733e5",
   "metadata": {},
   "outputs": [],
   "source": [
    "# importing data\n",
    "\n",
    "complete_dataset = pd.read_csv('/home/aronkovacs/DILANS/returning_readers.csv', delimiter=';', \n",
    "                                names = ['event_date', 'event', 'country', 'user_id', 'topic'])"
   ]
  },
  {
   "cell_type": "code",
   "execution_count": 20,
   "id": "d9bbd3b0",
   "metadata": {},
   "outputs": [],
   "source": [
    "# I split the first column into date and time so it's easier to work with.\n",
    "\n",
    "def date_time_split(data):\n",
    "    \n",
    "    # function creating a date and a time column from one datetime column\n",
    "    new = data[\"event_date\"].str.split(\" \", n = 1, expand = True)\n",
    "    data[\"event_date\"]= new[0]\n",
    "    data[\"event_time\"]= new[1]\n",
    "\n",
    "    data = data[['event_date','event_time','event','country','user_id','topic']]\n",
    "    data['event_date'] = pd.to_datetime(data['event_date'])\n",
    "    \n",
    "    return data"
   ]
  },
  {
   "cell_type": "code",
   "execution_count": 21,
   "id": "262bc808",
   "metadata": {},
   "outputs": [],
   "source": [
    "complete_dataset = date_time_split(complete_dataset)"
   ]
  },
  {
   "cell_type": "code",
   "execution_count": 22,
   "id": "4cf660bd",
   "metadata": {},
   "outputs": [],
   "source": [
    "b = complete_dataset"
   ]
  },
  {
   "cell_type": "code",
   "execution_count": 23,
   "id": "0c95caf6",
   "metadata": {},
   "outputs": [],
   "source": [
    "returning_readers = b"
   ]
  },
  {
   "cell_type": "code",
   "execution_count": 24,
   "id": "1f02a755",
   "metadata": {},
   "outputs": [
    {
     "data": {
      "text/html": [
       "<div>\n",
       "<style scoped>\n",
       "    .dataframe tbody tr th:only-of-type {\n",
       "        vertical-align: middle;\n",
       "    }\n",
       "\n",
       "    .dataframe tbody tr th {\n",
       "        vertical-align: top;\n",
       "    }\n",
       "\n",
       "    .dataframe thead th {\n",
       "        text-align: right;\n",
       "    }\n",
       "</style>\n",
       "<table border=\"1\" class=\"dataframe\">\n",
       "  <thead>\n",
       "    <tr style=\"text-align: right;\">\n",
       "      <th></th>\n",
       "      <th>event_date</th>\n",
       "      <th>event_time</th>\n",
       "      <th>event</th>\n",
       "      <th>country</th>\n",
       "      <th>user_id</th>\n",
       "      <th>topic</th>\n",
       "    </tr>\n",
       "  </thead>\n",
       "  <tbody>\n",
       "    <tr>\n",
       "      <th>0</th>\n",
       "      <td>2018-01-01</td>\n",
       "      <td>02:20:18</td>\n",
       "      <td>read</td>\n",
       "      <td>country_5</td>\n",
       "      <td>2458151287</td>\n",
       "      <td>North America</td>\n",
       "    </tr>\n",
       "    <tr>\n",
       "      <th>1</th>\n",
       "      <td>2018-01-01</td>\n",
       "      <td>02:53:39</td>\n",
       "      <td>read</td>\n",
       "      <td>country_4</td>\n",
       "      <td>2458151279</td>\n",
       "      <td>Asia</td>\n",
       "    </tr>\n",
       "    <tr>\n",
       "      <th>2</th>\n",
       "      <td>2018-01-01</td>\n",
       "      <td>03:34:22</td>\n",
       "      <td>read</td>\n",
       "      <td>country_4</td>\n",
       "      <td>2458151525</td>\n",
       "      <td>Africa</td>\n",
       "    </tr>\n",
       "    <tr>\n",
       "      <th>3</th>\n",
       "      <td>2018-01-01</td>\n",
       "      <td>03:36:18</td>\n",
       "      <td>read</td>\n",
       "      <td>country_5</td>\n",
       "      <td>2458151287</td>\n",
       "      <td>Asia</td>\n",
       "    </tr>\n",
       "    <tr>\n",
       "      <th>4</th>\n",
       "      <td>2018-01-01</td>\n",
       "      <td>03:40:42</td>\n",
       "      <td>read</td>\n",
       "      <td>country_5</td>\n",
       "      <td>2458151315</td>\n",
       "      <td>South America</td>\n",
       "    </tr>\n",
       "  </tbody>\n",
       "</table>\n",
       "</div>"
      ],
      "text/plain": [
       "  event_date event_time event    country     user_id          topic\n",
       "0 2018-01-01   02:20:18  read  country_5  2458151287  North America\n",
       "1 2018-01-01   02:53:39  read  country_4  2458151279           Asia\n",
       "2 2018-01-01   03:34:22  read  country_4  2458151525         Africa\n",
       "3 2018-01-01   03:36:18  read  country_5  2458151287           Asia\n",
       "4 2018-01-01   03:40:42  read  country_5  2458151315  South America"
      ]
     },
     "execution_count": 24,
     "metadata": {},
     "output_type": "execute_result"
    }
   ],
   "source": [
    "returning_readers.head()"
   ]
  },
  {
   "cell_type": "markdown",
   "id": "f242c541",
   "metadata": {},
   "source": [
    "subscribers"
   ]
  },
  {
   "cell_type": "code",
   "execution_count": 10,
   "id": "67aa4a3e",
   "metadata": {},
   "outputs": [],
   "source": [
    "# importing data\n",
    "\n",
    "complete_dataset = pd.read_csv('/home/aronkovacs/DILANS/subscribers.csv', delimiter=';', \n",
    "                                names = ['event_date', 'event', 'user_id',])"
   ]
  },
  {
   "cell_type": "code",
   "execution_count": 11,
   "id": "b1c47fd4",
   "metadata": {},
   "outputs": [],
   "source": [
    "# I split the first column into date and time so it's easier to work with.\n",
    "\n",
    "def date_time_split(data):\n",
    "    \n",
    "    # function creating a date and a time column from one datetime column\n",
    "    new = data[\"event_date\"].str.split(\" \", n = 1, expand = True)\n",
    "    data[\"event_date\"]= new[0]\n",
    "    data[\"event_time\"]= new[1]\n",
    "\n",
    "    data = data[['event_date','event_time','event','user_id']]\n",
    "    data['event_date'] = pd.to_datetime(data['event_date'])\n",
    "    \n",
    "    return data"
   ]
  },
  {
   "cell_type": "code",
   "execution_count": 12,
   "id": "17b1fc48",
   "metadata": {},
   "outputs": [],
   "source": [
    "complete_dataset = date_time_split(complete_dataset)"
   ]
  },
  {
   "cell_type": "code",
   "execution_count": 13,
   "id": "680d3774",
   "metadata": {},
   "outputs": [],
   "source": [
    "c = complete_dataset"
   ]
  },
  {
   "cell_type": "code",
   "execution_count": 14,
   "id": "2466044a",
   "metadata": {},
   "outputs": [],
   "source": [
    "subscribers = c"
   ]
  },
  {
   "cell_type": "code",
   "execution_count": 15,
   "id": "651ab1db",
   "metadata": {},
   "outputs": [
    {
     "data": {
      "text/html": [
       "<div>\n",
       "<style scoped>\n",
       "    .dataframe tbody tr th:only-of-type {\n",
       "        vertical-align: middle;\n",
       "    }\n",
       "\n",
       "    .dataframe tbody tr th {\n",
       "        vertical-align: top;\n",
       "    }\n",
       "\n",
       "    .dataframe thead th {\n",
       "        text-align: right;\n",
       "    }\n",
       "</style>\n",
       "<table border=\"1\" class=\"dataframe\">\n",
       "  <thead>\n",
       "    <tr style=\"text-align: right;\">\n",
       "      <th></th>\n",
       "      <th>event_date</th>\n",
       "      <th>event_time</th>\n",
       "      <th>event</th>\n",
       "      <th>user_id</th>\n",
       "    </tr>\n",
       "  </thead>\n",
       "  <tbody>\n",
       "    <tr>\n",
       "      <th>0</th>\n",
       "      <td>2018-01-01</td>\n",
       "      <td>00:07:41</td>\n",
       "      <td>subscribe</td>\n",
       "      <td>2458151268</td>\n",
       "    </tr>\n",
       "    <tr>\n",
       "      <th>1</th>\n",
       "      <td>2018-01-01</td>\n",
       "      <td>00:07:44</td>\n",
       "      <td>subscribe</td>\n",
       "      <td>2458151267</td>\n",
       "    </tr>\n",
       "    <tr>\n",
       "      <th>2</th>\n",
       "      <td>2018-01-01</td>\n",
       "      <td>00:40:55</td>\n",
       "      <td>subscribe</td>\n",
       "      <td>2458151309</td>\n",
       "    </tr>\n",
       "    <tr>\n",
       "      <th>3</th>\n",
       "      <td>2018-01-01</td>\n",
       "      <td>01:26:26</td>\n",
       "      <td>subscribe</td>\n",
       "      <td>2458151358</td>\n",
       "    </tr>\n",
       "    <tr>\n",
       "      <th>4</th>\n",
       "      <td>2018-01-01</td>\n",
       "      <td>01:30:39</td>\n",
       "      <td>subscribe</td>\n",
       "      <td>2458151361</td>\n",
       "    </tr>\n",
       "  </tbody>\n",
       "</table>\n",
       "</div>"
      ],
      "text/plain": [
       "  event_date event_time      event     user_id\n",
       "0 2018-01-01   00:07:41  subscribe  2458151268\n",
       "1 2018-01-01   00:07:44  subscribe  2458151267\n",
       "2 2018-01-01   00:40:55  subscribe  2458151309\n",
       "3 2018-01-01   01:26:26  subscribe  2458151358\n",
       "4 2018-01-01   01:30:39  subscribe  2458151361"
      ]
     },
     "execution_count": 15,
     "metadata": {},
     "output_type": "execute_result"
    }
   ],
   "source": [
    "subscribers.head()"
   ]
  },
  {
   "cell_type": "markdown",
   "id": "d54d78d3",
   "metadata": {},
   "source": [
    "customers"
   ]
  },
  {
   "cell_type": "code",
   "execution_count": 3,
   "id": "dcc1cd08",
   "metadata": {},
   "outputs": [],
   "source": [
    "# importing data\n",
    "\n",
    "complete_dataset = pd.read_csv('/home/aronkovacs/DILANS/customers.csv', delimiter=';', \n",
    "                                names = ['event_date', 'event', 'user_id', 'price'])"
   ]
  },
  {
   "cell_type": "code",
   "execution_count": 4,
   "id": "6917b395",
   "metadata": {},
   "outputs": [],
   "source": [
    "# I split the first column into date and time so it's easier to work with.\n",
    "\n",
    "def date_time_split(data):\n",
    "    \n",
    "    # function creating a date and a time column from one datetime column\n",
    "    new = data[\"event_date\"].str.split(\" \", n = 1, expand = True)\n",
    "    data[\"event_date\"]= new[0]\n",
    "    data[\"event_time\"]= new[1]\n",
    "\n",
    "    data = data[['event_date','event_time','event','user_id', 'price']]\n",
    "    data['event_date'] = pd.to_datetime(data['event_date'])\n",
    "    \n",
    "    return data"
   ]
  },
  {
   "cell_type": "code",
   "execution_count": 5,
   "id": "efdc0471",
   "metadata": {},
   "outputs": [],
   "source": [
    "complete_dataset = date_time_split(complete_dataset)"
   ]
  },
  {
   "cell_type": "code",
   "execution_count": 6,
   "id": "fd9e3306",
   "metadata": {},
   "outputs": [],
   "source": [
    "d = complete_dataset"
   ]
  },
  {
   "cell_type": "code",
   "execution_count": 7,
   "id": "7a128efe",
   "metadata": {},
   "outputs": [],
   "source": [
    "customers = d"
   ]
  },
  {
   "cell_type": "code",
   "execution_count": 32,
   "id": "e105310c",
   "metadata": {},
   "outputs": [
    {
     "data": {
      "text/html": [
       "<div>\n",
       "<style scoped>\n",
       "    .dataframe tbody tr th:only-of-type {\n",
       "        vertical-align: middle;\n",
       "    }\n",
       "\n",
       "    .dataframe tbody tr th {\n",
       "        vertical-align: top;\n",
       "    }\n",
       "\n",
       "    .dataframe thead th {\n",
       "        text-align: right;\n",
       "    }\n",
       "</style>\n",
       "<table border=\"1\" class=\"dataframe\">\n",
       "  <thead>\n",
       "    <tr style=\"text-align: right;\">\n",
       "      <th></th>\n",
       "      <th>event_date</th>\n",
       "      <th>event_time</th>\n",
       "      <th>event</th>\n",
       "      <th>country</th>\n",
       "      <th>user_id</th>\n",
       "      <th>source</th>\n",
       "      <th>topic</th>\n",
       "    </tr>\n",
       "  </thead>\n",
       "  <tbody>\n",
       "    <tr>\n",
       "      <th>0</th>\n",
       "      <td>2018-01-01</td>\n",
       "      <td>00:04:01</td>\n",
       "      <td>read</td>\n",
       "      <td>country_7</td>\n",
       "      <td>2458151263</td>\n",
       "      <td>AdWords</td>\n",
       "      <td>Africa</td>\n",
       "    </tr>\n",
       "    <tr>\n",
       "      <th>1</th>\n",
       "      <td>2018-01-01</td>\n",
       "      <td>00:04:02</td>\n",
       "      <td>read</td>\n",
       "      <td>country_7</td>\n",
       "      <td>2458151264</td>\n",
       "      <td>AdWords</td>\n",
       "      <td>Europe</td>\n",
       "    </tr>\n",
       "    <tr>\n",
       "      <th>2</th>\n",
       "      <td>2018-01-01</td>\n",
       "      <td>00:06:15</td>\n",
       "      <td>read</td>\n",
       "      <td>country_6</td>\n",
       "      <td>2458151268</td>\n",
       "      <td>AdWords</td>\n",
       "      <td>Europe</td>\n",
       "    </tr>\n",
       "    <tr>\n",
       "      <th>3</th>\n",
       "      <td>2018-01-01</td>\n",
       "      <td>00:07:21</td>\n",
       "      <td>read</td>\n",
       "      <td>country_7</td>\n",
       "      <td>2458151269</td>\n",
       "      <td>AdWords</td>\n",
       "      <td>North America</td>\n",
       "    </tr>\n",
       "    <tr>\n",
       "      <th>4</th>\n",
       "      <td>2018-01-01</td>\n",
       "      <td>00:07:57</td>\n",
       "      <td>read</td>\n",
       "      <td>country_5</td>\n",
       "      <td>2458151271</td>\n",
       "      <td>AdWords</td>\n",
       "      <td>Asia</td>\n",
       "    </tr>\n",
       "  </tbody>\n",
       "</table>\n",
       "</div>"
      ],
      "text/plain": [
       "  event_date event_time event    country     user_id   source          topic\n",
       "0 2018-01-01   00:04:01  read  country_7  2458151263  AdWords         Africa\n",
       "1 2018-01-01   00:04:02  read  country_7  2458151264  AdWords         Europe\n",
       "2 2018-01-01   00:06:15  read  country_6  2458151268  AdWords         Europe\n",
       "3 2018-01-01   00:07:21  read  country_7  2458151269  AdWords  North America\n",
       "4 2018-01-01   00:07:57  read  country_5  2458151271  AdWords           Asia"
      ]
     },
     "execution_count": 32,
     "metadata": {},
     "output_type": "execute_result"
    }
   ],
   "source": [
    "new_readers.head()"
   ]
  },
  {
   "cell_type": "code",
   "execution_count": 31,
   "id": "40e2d30d",
   "metadata": {},
   "outputs": [
    {
     "data": {
      "text/html": [
       "<div>\n",
       "<style scoped>\n",
       "    .dataframe tbody tr th:only-of-type {\n",
       "        vertical-align: middle;\n",
       "    }\n",
       "\n",
       "    .dataframe tbody tr th {\n",
       "        vertical-align: top;\n",
       "    }\n",
       "\n",
       "    .dataframe thead th {\n",
       "        text-align: right;\n",
       "    }\n",
       "</style>\n",
       "<table border=\"1\" class=\"dataframe\">\n",
       "  <thead>\n",
       "    <tr style=\"text-align: right;\">\n",
       "      <th></th>\n",
       "      <th>event_date</th>\n",
       "      <th>event_time</th>\n",
       "      <th>event</th>\n",
       "      <th>country</th>\n",
       "      <th>user_id</th>\n",
       "      <th>topic</th>\n",
       "    </tr>\n",
       "  </thead>\n",
       "  <tbody>\n",
       "    <tr>\n",
       "      <th>0</th>\n",
       "      <td>2018-01-01</td>\n",
       "      <td>02:20:18</td>\n",
       "      <td>read</td>\n",
       "      <td>country_5</td>\n",
       "      <td>2458151287</td>\n",
       "      <td>North America</td>\n",
       "    </tr>\n",
       "    <tr>\n",
       "      <th>1</th>\n",
       "      <td>2018-01-01</td>\n",
       "      <td>02:53:39</td>\n",
       "      <td>read</td>\n",
       "      <td>country_4</td>\n",
       "      <td>2458151279</td>\n",
       "      <td>Asia</td>\n",
       "    </tr>\n",
       "    <tr>\n",
       "      <th>2</th>\n",
       "      <td>2018-01-01</td>\n",
       "      <td>03:34:22</td>\n",
       "      <td>read</td>\n",
       "      <td>country_4</td>\n",
       "      <td>2458151525</td>\n",
       "      <td>Africa</td>\n",
       "    </tr>\n",
       "    <tr>\n",
       "      <th>3</th>\n",
       "      <td>2018-01-01</td>\n",
       "      <td>03:36:18</td>\n",
       "      <td>read</td>\n",
       "      <td>country_5</td>\n",
       "      <td>2458151287</td>\n",
       "      <td>Asia</td>\n",
       "    </tr>\n",
       "    <tr>\n",
       "      <th>4</th>\n",
       "      <td>2018-01-01</td>\n",
       "      <td>03:40:42</td>\n",
       "      <td>read</td>\n",
       "      <td>country_5</td>\n",
       "      <td>2458151315</td>\n",
       "      <td>South America</td>\n",
       "    </tr>\n",
       "  </tbody>\n",
       "</table>\n",
       "</div>"
      ],
      "text/plain": [
       "  event_date event_time event    country     user_id          topic\n",
       "0 2018-01-01   02:20:18  read  country_5  2458151287  North America\n",
       "1 2018-01-01   02:53:39  read  country_4  2458151279           Asia\n",
       "2 2018-01-01   03:34:22  read  country_4  2458151525         Africa\n",
       "3 2018-01-01   03:36:18  read  country_5  2458151287           Asia\n",
       "4 2018-01-01   03:40:42  read  country_5  2458151315  South America"
      ]
     },
     "execution_count": 31,
     "metadata": {},
     "output_type": "execute_result"
    }
   ],
   "source": [
    "returning_readers.head()"
   ]
  },
  {
   "cell_type": "code",
   "execution_count": 30,
   "id": "63a43325",
   "metadata": {},
   "outputs": [
    {
     "data": {
      "text/html": [
       "<div>\n",
       "<style scoped>\n",
       "    .dataframe tbody tr th:only-of-type {\n",
       "        vertical-align: middle;\n",
       "    }\n",
       "\n",
       "    .dataframe tbody tr th {\n",
       "        vertical-align: top;\n",
       "    }\n",
       "\n",
       "    .dataframe thead th {\n",
       "        text-align: right;\n",
       "    }\n",
       "</style>\n",
       "<table border=\"1\" class=\"dataframe\">\n",
       "  <thead>\n",
       "    <tr style=\"text-align: right;\">\n",
       "      <th></th>\n",
       "      <th>event_date</th>\n",
       "      <th>event_time</th>\n",
       "      <th>event</th>\n",
       "      <th>user_id</th>\n",
       "    </tr>\n",
       "  </thead>\n",
       "  <tbody>\n",
       "    <tr>\n",
       "      <th>0</th>\n",
       "      <td>2018-01-01</td>\n",
       "      <td>00:07:41</td>\n",
       "      <td>subscribe</td>\n",
       "      <td>2458151268</td>\n",
       "    </tr>\n",
       "    <tr>\n",
       "      <th>1</th>\n",
       "      <td>2018-01-01</td>\n",
       "      <td>00:07:44</td>\n",
       "      <td>subscribe</td>\n",
       "      <td>2458151267</td>\n",
       "    </tr>\n",
       "    <tr>\n",
       "      <th>2</th>\n",
       "      <td>2018-01-01</td>\n",
       "      <td>00:40:55</td>\n",
       "      <td>subscribe</td>\n",
       "      <td>2458151309</td>\n",
       "    </tr>\n",
       "    <tr>\n",
       "      <th>3</th>\n",
       "      <td>2018-01-01</td>\n",
       "      <td>01:26:26</td>\n",
       "      <td>subscribe</td>\n",
       "      <td>2458151358</td>\n",
       "    </tr>\n",
       "    <tr>\n",
       "      <th>4</th>\n",
       "      <td>2018-01-01</td>\n",
       "      <td>01:30:39</td>\n",
       "      <td>subscribe</td>\n",
       "      <td>2458151361</td>\n",
       "    </tr>\n",
       "  </tbody>\n",
       "</table>\n",
       "</div>"
      ],
      "text/plain": [
       "  event_date event_time      event     user_id\n",
       "0 2018-01-01   00:07:41  subscribe  2458151268\n",
       "1 2018-01-01   00:07:44  subscribe  2458151267\n",
       "2 2018-01-01   00:40:55  subscribe  2458151309\n",
       "3 2018-01-01   01:26:26  subscribe  2458151358\n",
       "4 2018-01-01   01:30:39  subscribe  2458151361"
      ]
     },
     "execution_count": 30,
     "metadata": {},
     "output_type": "execute_result"
    }
   ],
   "source": [
    "subscribers.head()"
   ]
  },
  {
   "cell_type": "code",
   "execution_count": 29,
   "id": "25ff4a50",
   "metadata": {},
   "outputs": [
    {
     "data": {
      "text/html": [
       "<div>\n",
       "<style scoped>\n",
       "    .dataframe tbody tr th:only-of-type {\n",
       "        vertical-align: middle;\n",
       "    }\n",
       "\n",
       "    .dataframe tbody tr th {\n",
       "        vertical-align: top;\n",
       "    }\n",
       "\n",
       "    .dataframe thead th {\n",
       "        text-align: right;\n",
       "    }\n",
       "</style>\n",
       "<table border=\"1\" class=\"dataframe\">\n",
       "  <thead>\n",
       "    <tr style=\"text-align: right;\">\n",
       "      <th></th>\n",
       "      <th>event_date</th>\n",
       "      <th>event_time</th>\n",
       "      <th>event</th>\n",
       "      <th>user_id</th>\n",
       "      <th>price</th>\n",
       "    </tr>\n",
       "  </thead>\n",
       "  <tbody>\n",
       "    <tr>\n",
       "      <th>0</th>\n",
       "      <td>2018-01-01</td>\n",
       "      <td>04:04:59</td>\n",
       "      <td>buy</td>\n",
       "      <td>2458151555</td>\n",
       "      <td>8</td>\n",
       "    </tr>\n",
       "    <tr>\n",
       "      <th>1</th>\n",
       "      <td>2018-01-01</td>\n",
       "      <td>09:28:00</td>\n",
       "      <td>buy</td>\n",
       "      <td>2458151933</td>\n",
       "      <td>8</td>\n",
       "    </tr>\n",
       "    <tr>\n",
       "      <th>2</th>\n",
       "      <td>2018-01-01</td>\n",
       "      <td>13:23:16</td>\n",
       "      <td>buy</td>\n",
       "      <td>2458152245</td>\n",
       "      <td>8</td>\n",
       "    </tr>\n",
       "    <tr>\n",
       "      <th>3</th>\n",
       "      <td>2018-01-01</td>\n",
       "      <td>14:20:43</td>\n",
       "      <td>buy</td>\n",
       "      <td>2458152315</td>\n",
       "      <td>8</td>\n",
       "    </tr>\n",
       "    <tr>\n",
       "      <th>4</th>\n",
       "      <td>2018-01-01</td>\n",
       "      <td>16:56:04</td>\n",
       "      <td>buy</td>\n",
       "      <td>2458152371</td>\n",
       "      <td>8</td>\n",
       "    </tr>\n",
       "  </tbody>\n",
       "</table>\n",
       "</div>"
      ],
      "text/plain": [
       "  event_date event_time event     user_id  price\n",
       "0 2018-01-01   04:04:59   buy  2458151555      8\n",
       "1 2018-01-01   09:28:00   buy  2458151933      8\n",
       "2 2018-01-01   13:23:16   buy  2458152245      8\n",
       "3 2018-01-01   14:20:43   buy  2458152315      8\n",
       "4 2018-01-01   16:56:04   buy  2458152371      8"
      ]
     },
     "execution_count": 29,
     "metadata": {},
     "output_type": "execute_result"
    }
   ],
   "source": [
    "customers.head()"
   ]
  },
  {
   "cell_type": "code",
   "execution_count": null,
   "id": "782fba9f",
   "metadata": {},
   "outputs": [],
   "source": []
  },
  {
   "cell_type": "markdown",
   "id": "a05f8a4f",
   "metadata": {},
   "source": [
    "## Daily Subscribers"
   ]
  },
  {
   "cell_type": "code",
   "execution_count": 58,
   "id": "71ce35e1",
   "metadata": {},
   "outputs": [],
   "source": [
    "daily_subscribers = subscribers[['event_date', 'user_id']].groupby('event_date').count()[['user_id']]"
   ]
  },
  {
   "cell_type": "code",
   "execution_count": 59,
   "id": "8ecbfda7",
   "metadata": {},
   "outputs": [
    {
     "data": {
      "text/plain": [
       "<matplotlib.axes._subplots.AxesSubplot at 0x7f97fce91b70>"
      ]
     },
     "execution_count": 59,
     "metadata": {},
     "output_type": "execute_result"
    },
    {
     "data": {
      "image/png": "[encoded data removed]",
      "text/plain": [
       "<matplotlib.figure.Figure at 0x7f97fe52af98>"
      ]
     },
     "metadata": {
      "needs_background": "light"
     },
     "output_type": "display_data"
    }
   ],
   "source": [
    "daily_subscribers.plot()"
   ]
  },
  {
   "cell_type": "markdown",
   "id": "349aacea",
   "metadata": {},
   "source": [
    "## Customers export to csv"
   ]
  },
  {
   "cell_type": "code",
   "execution_count": 8,
   "id": "c3d17535",
   "metadata": {},
   "outputs": [
    {
     "data": {
      "text/html": [
       "<div>\n",
       "<style scoped>\n",
       "    .dataframe tbody tr th:only-of-type {\n",
       "        vertical-align: middle;\n",
       "    }\n",
       "\n",
       "    .dataframe tbody tr th {\n",
       "        vertical-align: top;\n",
       "    }\n",
       "\n",
       "    .dataframe thead th {\n",
       "        text-align: right;\n",
       "    }\n",
       "</style>\n",
       "<table border=\"1\" class=\"dataframe\">\n",
       "  <thead>\n",
       "    <tr style=\"text-align: right;\">\n",
       "      <th></th>\n",
       "      <th>event_date</th>\n",
       "      <th>event_time</th>\n",
       "      <th>event</th>\n",
       "      <th>user_id</th>\n",
       "      <th>price</th>\n",
       "    </tr>\n",
       "  </thead>\n",
       "  <tbody>\n",
       "    <tr>\n",
       "      <th>0</th>\n",
       "      <td>2018-01-01</td>\n",
       "      <td>04:04:59</td>\n",
       "      <td>buy</td>\n",
       "      <td>2458151555</td>\n",
       "      <td>8</td>\n",
       "    </tr>\n",
       "    <tr>\n",
       "      <th>1</th>\n",
       "      <td>2018-01-01</td>\n",
       "      <td>09:28:00</td>\n",
       "      <td>buy</td>\n",
       "      <td>2458151933</td>\n",
       "      <td>8</td>\n",
       "    </tr>\n",
       "    <tr>\n",
       "      <th>2</th>\n",
       "      <td>2018-01-01</td>\n",
       "      <td>13:23:16</td>\n",
       "      <td>buy</td>\n",
       "      <td>2458152245</td>\n",
       "      <td>8</td>\n",
       "    </tr>\n",
       "    <tr>\n",
       "      <th>3</th>\n",
       "      <td>2018-01-01</td>\n",
       "      <td>14:20:43</td>\n",
       "      <td>buy</td>\n",
       "      <td>2458152315</td>\n",
       "      <td>8</td>\n",
       "    </tr>\n",
       "    <tr>\n",
       "      <th>4</th>\n",
       "      <td>2018-01-01</td>\n",
       "      <td>16:56:04</td>\n",
       "      <td>buy</td>\n",
       "      <td>2458152371</td>\n",
       "      <td>8</td>\n",
       "    </tr>\n",
       "  </tbody>\n",
       "</table>\n",
       "</div>"
      ],
      "text/plain": [
       "  event_date event_time event     user_id  price\n",
       "0 2018-01-01   04:04:59   buy  2458151555      8\n",
       "1 2018-01-01   09:28:00   buy  2458151933      8\n",
       "2 2018-01-01   13:23:16   buy  2458152245      8\n",
       "3 2018-01-01   14:20:43   buy  2458152315      8\n",
       "4 2018-01-01   16:56:04   buy  2458152371      8"
      ]
     },
     "execution_count": 8,
     "metadata": {},
     "output_type": "execute_result"
    }
   ],
   "source": [
    "customers.head()"
   ]
  },
  {
   "cell_type": "code",
   "execution_count": 9,
   "id": "c2ce6aef",
   "metadata": {},
   "outputs": [],
   "source": [
    "customers.to_csv('/home/aronkovacs/DILANS/data_set/customers.csv', sep= ',', header=False, index=False, decimal=None)"
   ]
  },
  {
   "cell_type": "markdown",
   "id": "69511aef",
   "metadata": {},
   "source": [
    "## Subscribers export to csv"
   ]
  },
  {
   "cell_type": "code",
   "execution_count": 17,
   "id": "a778f1fe",
   "metadata": {},
   "outputs": [
    {
     "data": {
      "text/html": [
       "<div>\n",
       "<style scoped>\n",
       "    .dataframe tbody tr th:only-of-type {\n",
       "        vertical-align: middle;\n",
       "    }\n",
       "\n",
       "    .dataframe tbody tr th {\n",
       "        vertical-align: top;\n",
       "    }\n",
       "\n",
       "    .dataframe thead th {\n",
       "        text-align: right;\n",
       "    }\n",
       "</style>\n",
       "<table border=\"1\" class=\"dataframe\">\n",
       "  <thead>\n",
       "    <tr style=\"text-align: right;\">\n",
       "      <th></th>\n",
       "      <th>event_date</th>\n",
       "      <th>event_time</th>\n",
       "      <th>event</th>\n",
       "      <th>user_id</th>\n",
       "    </tr>\n",
       "  </thead>\n",
       "  <tbody>\n",
       "    <tr>\n",
       "      <th>0</th>\n",
       "      <td>2018-01-01</td>\n",
       "      <td>00:07:41</td>\n",
       "      <td>subscribe</td>\n",
       "      <td>2458151268</td>\n",
       "    </tr>\n",
       "    <tr>\n",
       "      <th>1</th>\n",
       "      <td>2018-01-01</td>\n",
       "      <td>00:07:44</td>\n",
       "      <td>subscribe</td>\n",
       "      <td>2458151267</td>\n",
       "    </tr>\n",
       "    <tr>\n",
       "      <th>2</th>\n",
       "      <td>2018-01-01</td>\n",
       "      <td>00:40:55</td>\n",
       "      <td>subscribe</td>\n",
       "      <td>2458151309</td>\n",
       "    </tr>\n",
       "    <tr>\n",
       "      <th>3</th>\n",
       "      <td>2018-01-01</td>\n",
       "      <td>01:26:26</td>\n",
       "      <td>subscribe</td>\n",
       "      <td>2458151358</td>\n",
       "    </tr>\n",
       "    <tr>\n",
       "      <th>4</th>\n",
       "      <td>2018-01-01</td>\n",
       "      <td>01:30:39</td>\n",
       "      <td>subscribe</td>\n",
       "      <td>2458151361</td>\n",
       "    </tr>\n",
       "  </tbody>\n",
       "</table>\n",
       "</div>"
      ],
      "text/plain": [
       "  event_date event_time      event     user_id\n",
       "0 2018-01-01   00:07:41  subscribe  2458151268\n",
       "1 2018-01-01   00:07:44  subscribe  2458151267\n",
       "2 2018-01-01   00:40:55  subscribe  2458151309\n",
       "3 2018-01-01   01:26:26  subscribe  2458151358\n",
       "4 2018-01-01   01:30:39  subscribe  2458151361"
      ]
     },
     "execution_count": 17,
     "metadata": {},
     "output_type": "execute_result"
    }
   ],
   "source": [
    "subscribers.head()"
   ]
  },
  {
   "cell_type": "code",
   "execution_count": 18,
   "id": "7b5d068b",
   "metadata": {},
   "outputs": [],
   "source": [
    "subscribers.to_csv('/home/aronkovacs/DILANS/data_set/subscribers.csv', sep= ',', header=False, index=False, decimal=None)"
   ]
  },
  {
   "cell_type": "markdown",
   "id": "8cd0bca5",
   "metadata": {},
   "source": [
    "## Returning readers export to csv"
   ]
  },
  {
   "cell_type": "code",
   "execution_count": 25,
   "id": "584c2118",
   "metadata": {},
   "outputs": [
    {
     "data": {
      "text/html": [
       "<div>\n",
       "<style scoped>\n",
       "    .dataframe tbody tr th:only-of-type {\n",
       "        vertical-align: middle;\n",
       "    }\n",
       "\n",
       "    .dataframe tbody tr th {\n",
       "        vertical-align: top;\n",
       "    }\n",
       "\n",
       "    .dataframe thead th {\n",
       "        text-align: right;\n",
       "    }\n",
       "</style>\n",
       "<table border=\"1\" class=\"dataframe\">\n",
       "  <thead>\n",
       "    <tr style=\"text-align: right;\">\n",
       "      <th></th>\n",
       "      <th>event_date</th>\n",
       "      <th>event_time</th>\n",
       "      <th>event</th>\n",
       "      <th>country</th>\n",
       "      <th>user_id</th>\n",
       "      <th>topic</th>\n",
       "    </tr>\n",
       "  </thead>\n",
       "  <tbody>\n",
       "    <tr>\n",
       "      <th>0</th>\n",
       "      <td>2018-01-01</td>\n",
       "      <td>02:20:18</td>\n",
       "      <td>read</td>\n",
       "      <td>country_5</td>\n",
       "      <td>2458151287</td>\n",
       "      <td>North America</td>\n",
       "    </tr>\n",
       "    <tr>\n",
       "      <th>1</th>\n",
       "      <td>2018-01-01</td>\n",
       "      <td>02:53:39</td>\n",
       "      <td>read</td>\n",
       "      <td>country_4</td>\n",
       "      <td>2458151279</td>\n",
       "      <td>Asia</td>\n",
       "    </tr>\n",
       "    <tr>\n",
       "      <th>2</th>\n",
       "      <td>2018-01-01</td>\n",
       "      <td>03:34:22</td>\n",
       "      <td>read</td>\n",
       "      <td>country_4</td>\n",
       "      <td>2458151525</td>\n",
       "      <td>Africa</td>\n",
       "    </tr>\n",
       "    <tr>\n",
       "      <th>3</th>\n",
       "      <td>2018-01-01</td>\n",
       "      <td>03:36:18</td>\n",
       "      <td>read</td>\n",
       "      <td>country_5</td>\n",
       "      <td>2458151287</td>\n",
       "      <td>Asia</td>\n",
       "    </tr>\n",
       "    <tr>\n",
       "      <th>4</th>\n",
       "      <td>2018-01-01</td>\n",
       "      <td>03:40:42</td>\n",
       "      <td>read</td>\n",
       "      <td>country_5</td>\n",
       "      <td>2458151315</td>\n",
       "      <td>South America</td>\n",
       "    </tr>\n",
       "  </tbody>\n",
       "</table>\n",
       "</div>"
      ],
      "text/plain": [
       "  event_date event_time event    country     user_id          topic\n",
       "0 2018-01-01   02:20:18  read  country_5  2458151287  North America\n",
       "1 2018-01-01   02:53:39  read  country_4  2458151279           Asia\n",
       "2 2018-01-01   03:34:22  read  country_4  2458151525         Africa\n",
       "3 2018-01-01   03:36:18  read  country_5  2458151287           Asia\n",
       "4 2018-01-01   03:40:42  read  country_5  2458151315  South America"
      ]
     },
     "execution_count": 25,
     "metadata": {},
     "output_type": "execute_result"
    }
   ],
   "source": [
    "returning_readers.head()"
   ]
  },
  {
   "cell_type": "code",
   "execution_count": 26,
   "id": "aed2f836",
   "metadata": {},
   "outputs": [],
   "source": [
    "returning_readers.to_csv('/home/aronkovacs/DILANS/data_set/returning_readers.csv', sep= ',', header=False, index=False, decimal=None)"
   ]
  },
  {
   "cell_type": "markdown",
   "id": "fa3afeac",
   "metadata": {},
   "source": [
    "## New Readers export to csv "
   ]
  },
  {
   "cell_type": "code",
   "execution_count": 32,
   "id": "8f5b9a1d",
   "metadata": {},
   "outputs": [
    {
     "data": {
      "text/html": [
       "<div>\n",
       "<style scoped>\n",
       "    .dataframe tbody tr th:only-of-type {\n",
       "        vertical-align: middle;\n",
       "    }\n",
       "\n",
       "    .dataframe tbody tr th {\n",
       "        vertical-align: top;\n",
       "    }\n",
       "\n",
       "    .dataframe thead th {\n",
       "        text-align: right;\n",
       "    }\n",
       "</style>\n",
       "<table border=\"1\" class=\"dataframe\">\n",
       "  <thead>\n",
       "    <tr style=\"text-align: right;\">\n",
       "      <th></th>\n",
       "      <th>event_date</th>\n",
       "      <th>event_time</th>\n",
       "      <th>event</th>\n",
       "      <th>country</th>\n",
       "      <th>user_id</th>\n",
       "      <th>source</th>\n",
       "      <th>topic</th>\n",
       "    </tr>\n",
       "  </thead>\n",
       "  <tbody>\n",
       "    <tr>\n",
       "      <th>0</th>\n",
       "      <td>2018-01-01</td>\n",
       "      <td>00:04:01</td>\n",
       "      <td>read</td>\n",
       "      <td>country_7</td>\n",
       "      <td>2458151263</td>\n",
       "      <td>AdWords</td>\n",
       "      <td>Africa</td>\n",
       "    </tr>\n",
       "    <tr>\n",
       "      <th>1</th>\n",
       "      <td>2018-01-01</td>\n",
       "      <td>00:04:02</td>\n",
       "      <td>read</td>\n",
       "      <td>country_7</td>\n",
       "      <td>2458151264</td>\n",
       "      <td>AdWords</td>\n",
       "      <td>Europe</td>\n",
       "    </tr>\n",
       "    <tr>\n",
       "      <th>2</th>\n",
       "      <td>2018-01-01</td>\n",
       "      <td>00:06:15</td>\n",
       "      <td>read</td>\n",
       "      <td>country_6</td>\n",
       "      <td>2458151268</td>\n",
       "      <td>AdWords</td>\n",
       "      <td>Europe</td>\n",
       "    </tr>\n",
       "    <tr>\n",
       "      <th>3</th>\n",
       "      <td>2018-01-01</td>\n",
       "      <td>00:07:21</td>\n",
       "      <td>read</td>\n",
       "      <td>country_7</td>\n",
       "      <td>2458151269</td>\n",
       "      <td>AdWords</td>\n",
       "      <td>North America</td>\n",
       "    </tr>\n",
       "    <tr>\n",
       "      <th>4</th>\n",
       "      <td>2018-01-01</td>\n",
       "      <td>00:07:57</td>\n",
       "      <td>read</td>\n",
       "      <td>country_5</td>\n",
       "      <td>2458151271</td>\n",
       "      <td>AdWords</td>\n",
       "      <td>Asia</td>\n",
       "    </tr>\n",
       "  </tbody>\n",
       "</table>\n",
       "</div>"
      ],
      "text/plain": [
       "  event_date event_time event    country     user_id   source          topic\n",
       "0 2018-01-01   00:04:01  read  country_7  2458151263  AdWords         Africa\n",
       "1 2018-01-01   00:04:02  read  country_7  2458151264  AdWords         Europe\n",
       "2 2018-01-01   00:06:15  read  country_6  2458151268  AdWords         Europe\n",
       "3 2018-01-01   00:07:21  read  country_7  2458151269  AdWords  North America\n",
       "4 2018-01-01   00:07:57  read  country_5  2458151271  AdWords           Asia"
      ]
     },
     "execution_count": 32,
     "metadata": {},
     "output_type": "execute_result"
    }
   ],
   "source": [
    "new_readers.head()"
   ]
  },
  {
   "cell_type": "code",
   "execution_count": 33,
   "id": "555aab95",
   "metadata": {},
   "outputs": [],
   "source": [
    "new_readers.to_csv('/home/aronkovacs/DILANS/data_set/new_readers.csv', sep= ',', header=False, index=False, decimal=None)"
   ]
  },
  {
   "cell_type": "markdown",
   "id": "0a483a9e",
   "metadata": {},
   "source": [
    "## Prediction with Regression _New Readers"
   ]
  },
  {
   "cell_type": "code",
   "execution_count": 3,
   "id": "4ea9c5a1",
   "metadata": {},
   "outputs": [],
   "source": [
    "new_readers = pd.read_csv('/home/aronkovacs/DILANS/data_set/new_readers.csv', delimiter=',', \n",
    "                                names = ['event_date','event_time','event','country','user_id','source','topic'])"
   ]
  },
  {
   "cell_type": "code",
   "execution_count": 4,
   "id": "61dc38f2",
   "metadata": {},
   "outputs": [
    {
     "data": {
      "text/html": [
       "<div>\n",
       "<style scoped>\n",
       "    .dataframe tbody tr th:only-of-type {\n",
       "        vertical-align: middle;\n",
       "    }\n",
       "\n",
       "    .dataframe tbody tr th {\n",
       "        vertical-align: top;\n",
       "    }\n",
       "\n",
       "    .dataframe thead th {\n",
       "        text-align: right;\n",
       "    }\n",
       "</style>\n",
       "<table border=\"1\" class=\"dataframe\">\n",
       "  <thead>\n",
       "    <tr style=\"text-align: right;\">\n",
       "      <th></th>\n",
       "      <th>event_date</th>\n",
       "      <th>event_time</th>\n",
       "      <th>event</th>\n",
       "      <th>country</th>\n",
       "      <th>user_id</th>\n",
       "      <th>source</th>\n",
       "      <th>topic</th>\n",
       "    </tr>\n",
       "  </thead>\n",
       "  <tbody>\n",
       "    <tr>\n",
       "      <th>0</th>\n",
       "      <td>2018-01-01</td>\n",
       "      <td>00:04:01</td>\n",
       "      <td>read</td>\n",
       "      <td>country_7</td>\n",
       "      <td>2458151263</td>\n",
       "      <td>AdWords</td>\n",
       "      <td>Africa</td>\n",
       "    </tr>\n",
       "    <tr>\n",
       "      <th>1</th>\n",
       "      <td>2018-01-01</td>\n",
       "      <td>00:04:02</td>\n",
       "      <td>read</td>\n",
       "      <td>country_7</td>\n",
       "      <td>2458151264</td>\n",
       "      <td>AdWords</td>\n",
       "      <td>Europe</td>\n",
       "    </tr>\n",
       "    <tr>\n",
       "      <th>2</th>\n",
       "      <td>2018-01-01</td>\n",
       "      <td>00:06:15</td>\n",
       "      <td>read</td>\n",
       "      <td>country_6</td>\n",
       "      <td>2458151268</td>\n",
       "      <td>AdWords</td>\n",
       "      <td>Europe</td>\n",
       "    </tr>\n",
       "    <tr>\n",
       "      <th>3</th>\n",
       "      <td>2018-01-01</td>\n",
       "      <td>00:07:21</td>\n",
       "      <td>read</td>\n",
       "      <td>country_7</td>\n",
       "      <td>2458151269</td>\n",
       "      <td>AdWords</td>\n",
       "      <td>North America</td>\n",
       "    </tr>\n",
       "    <tr>\n",
       "      <th>4</th>\n",
       "      <td>2018-01-01</td>\n",
       "      <td>00:07:57</td>\n",
       "      <td>read</td>\n",
       "      <td>country_5</td>\n",
       "      <td>2458151271</td>\n",
       "      <td>AdWords</td>\n",
       "      <td>Asia</td>\n",
       "    </tr>\n",
       "  </tbody>\n",
       "</table>\n",
       "</div>"
      ],
      "text/plain": [
       "   event_date event_time event    country     user_id   source          topic\n",
       "0  2018-01-01   00:04:01  read  country_7  2458151263  AdWords         Africa\n",
       "1  2018-01-01   00:04:02  read  country_7  2458151264  AdWords         Europe\n",
       "2  2018-01-01   00:06:15  read  country_6  2458151268  AdWords         Europe\n",
       "3  2018-01-01   00:07:21  read  country_7  2458151269  AdWords  North America\n",
       "4  2018-01-01   00:07:57  read  country_5  2458151271  AdWords           Asia"
      ]
     },
     "execution_count": 4,
     "metadata": {},
     "output_type": "execute_result"
    }
   ],
   "source": [
    "new_readers.head()"
   ]
  },
  {
   "cell_type": "code",
   "execution_count": 5,
   "id": "8a961ed7",
   "metadata": {},
   "outputs": [],
   "source": [
    "daily_new_readers = new_readers.groupby('event_date').count()[['user_id']]"
   ]
  },
  {
   "cell_type": "code",
   "execution_count": 6,
   "id": "c4f33f95",
   "metadata": {},
   "outputs": [
    {
     "data": {
      "text/html": [
       "<div>\n",
       "<style scoped>\n",
       "    .dataframe tbody tr th:only-of-type {\n",
       "        vertical-align: middle;\n",
       "    }\n",
       "\n",
       "    .dataframe tbody tr th {\n",
       "        vertical-align: top;\n",
       "    }\n",
       "\n",
       "    .dataframe thead th {\n",
       "        text-align: right;\n",
       "    }\n",
       "</style>\n",
       "<table border=\"1\" class=\"dataframe\">\n",
       "  <thead>\n",
       "    <tr style=\"text-align: right;\">\n",
       "      <th></th>\n",
       "      <th>user_id</th>\n",
       "    </tr>\n",
       "    <tr>\n",
       "      <th>event_date</th>\n",
       "      <th></th>\n",
       "    </tr>\n",
       "  </thead>\n",
       "  <tbody>\n",
       "    <tr>\n",
       "      <th>2018-01-01</th>\n",
       "      <td>1795</td>\n",
       "    </tr>\n",
       "    <tr>\n",
       "      <th>2018-01-02</th>\n",
       "      <td>1812</td>\n",
       "    </tr>\n",
       "    <tr>\n",
       "      <th>2018-01-03</th>\n",
       "      <td>1816</td>\n",
       "    </tr>\n",
       "    <tr>\n",
       "      <th>2018-01-04</th>\n",
       "      <td>1849</td>\n",
       "    </tr>\n",
       "    <tr>\n",
       "      <th>2018-01-05</th>\n",
       "      <td>1876</td>\n",
       "    </tr>\n",
       "  </tbody>\n",
       "</table>\n",
       "</div>"
      ],
      "text/plain": [
       "            user_id\n",
       "event_date         \n",
       "2018-01-01     1795\n",
       "2018-01-02     1812\n",
       "2018-01-03     1816\n",
       "2018-01-04     1849\n",
       "2018-01-05     1876"
      ]
     },
     "execution_count": 6,
     "metadata": {},
     "output_type": "execute_result"
    }
   ],
   "source": [
    "daily_new_readers.head()"
   ]
  },
  {
   "cell_type": "code",
   "execution_count": 7,
   "id": "9fcf668d",
   "metadata": {},
   "outputs": [
    {
     "data": {
      "text/plain": [
       "<matplotlib.axes._subplots.AxesSubplot at 0x7f3bf0e93cf8>"
      ]
     },
     "execution_count": 7,
     "metadata": {},
     "output_type": "execute_result"
    },
    {
     "data": {
      "image/png": "[encoded data removed]",
      "text/plain": [
       "<matplotlib.figure.Figure at 0x7f3bf0e93710>"
      ]
     },
     "metadata": {
      "needs_background": "light"
     },
     "output_type": "display_data"
    }
   ],
   "source": [
    "daily_new_readers.plot()"
   ]
  },
  {
   "cell_type": "code",
   "execution_count": 8,
   "id": "39d71e1f",
   "metadata": {},
   "outputs": [],
   "source": [
    "right_format_daily_new_readers = daily_new_readers.reset_index(drop = True).user_id"
   ]
  },
  {
   "cell_type": "code",
   "execution_count": 9,
   "id": "4456d911",
   "metadata": {},
   "outputs": [
    {
     "data": {
      "text/plain": [
       "84    2971\n",
       "85    3019\n",
       "86    2989\n",
       "87    3037\n",
       "88    3013\n",
       "Name: user_id, dtype: int64"
      ]
     },
     "execution_count": 9,
     "metadata": {},
     "output_type": "execute_result"
    }
   ],
   "source": [
    "right_format_daily_new_readers.tail()"
   ]
  },
  {
   "cell_type": "code",
   "execution_count": 10,
   "id": "9560f0d6",
   "metadata": {},
   "outputs": [],
   "source": [
    "x = right_format_daily_new_readers.index\n",
    "y = right_format_daily_new_readers.values"
   ]
  },
  {
   "cell_type": "code",
   "execution_count": 21,
   "id": "79bc4d80",
   "metadata": {},
   "outputs": [],
   "source": [
    "coefs = np.polyfit(x, y, 2)\n",
    "predict = np.poly1d(coefs)"
   ]
  },
  {
   "cell_type": "code",
   "execution_count": 22,
   "id": "bf8e9c19",
   "metadata": {},
   "outputs": [
    {
     "data": {
      "image/png": "[encoded data removed]",
      "text/plain": [
       "<matplotlib.figure.Figure at 0x7f3bf062a470>"
      ]
     },
     "metadata": {
      "needs_background": "light"
     },
     "output_type": "display_data"
    }
   ],
   "source": [
    "x_test = np.linspace(0, 120)\n",
    "y_pred = predict(x_test[:, None])\n",
    "plt.scatter(x, y)\n",
    "plt.plot(x_test, y_pred, c = 'r')\n",
    "plt.show()"
   ]
  },
  {
   "cell_type": "code",
   "execution_count": 23,
   "id": "24926ce8",
   "metadata": {},
   "outputs": [
    {
     "data": {
      "text/plain": [
       "array([7.31752427e-02, 7.26837572e+00, 1.85003753e+03])"
      ]
     },
     "execution_count": 23,
     "metadata": {},
     "output_type": "execute_result"
    }
   ],
   "source": [
    "coefs"
   ]
  },
  {
   "cell_type": "code",
   "execution_count": 24,
   "id": "18fb2fa6",
   "metadata": {},
   "outputs": [
    {
     "data": {
      "text/plain": [
       "3702.1333830963067"
      ]
     },
     "execution_count": 24,
     "metadata": {},
     "output_type": "execute_result"
    }
   ],
   "source": [
    "predict(87+30)"
   ]
  },
  {
   "cell_type": "code",
   "execution_count": 25,
   "id": "ded562c9",
   "metadata": {},
   "outputs": [],
   "source": [
    "from sklearn.metrics import r2_score"
   ]
  },
  {
   "cell_type": "code",
   "execution_count": 26,
   "id": "1f98bb8d",
   "metadata": {},
   "outputs": [
    {
     "data": {
      "text/plain": [
       "0.9925242353965812"
      ]
     },
     "execution_count": 26,
     "metadata": {},
     "output_type": "execute_result"
    }
   ],
   "source": [
    "r2_score(y, predict(x))"
   ]
  },
  {
   "cell_type": "code",
   "execution_count": null,
   "id": "d7d5b831",
   "metadata": {},
   "outputs": [],
   "source": []
  },
  {
   "cell_type": "code",
   "execution_count": null,
   "id": "cbdef788",
   "metadata": {},
   "outputs": [],
   "source": []
  },
  {
   "cell_type": "code",
   "execution_count": null,
   "id": "88fe1f5f",
   "metadata": {},
   "outputs": [],
   "source": []
  }
 ],
 "metadata": {
  "kernelspec": {
   "display_name": "Python 3",
   "language": "python",
   "name": "python3"
  },
  "language_info": {
   "codemirror_mode": {
    "name": "ipython",
    "version": 3
   },
   "file_extension": ".py",
   "mimetype": "text/x-python",
   "name": "python",
   "nbconvert_exporter": "python",
   "pygments_lexer": "ipython3",
   "version": "3.6.9"
  }
 },
 "nbformat": 4,
 "nbformat_minor": 5
}
